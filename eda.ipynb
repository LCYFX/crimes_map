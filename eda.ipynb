{
 "cells": [
  {
   "cell_type": "code",
   "execution_count": 1,
   "metadata": {},
   "outputs": [],
   "source": [
    "import pandas as pd"
   ]
  },
  {
   "cell_type": "code",
   "execution_count": 2,
   "metadata": {},
   "outputs": [
    {
     "data": {
      "text/html": [
       "<div>\n",
       "<style scoped>\n",
       "    .dataframe tbody tr th:only-of-type {\n",
       "        vertical-align: middle;\n",
       "    }\n",
       "\n",
       "    .dataframe tbody tr th {\n",
       "        vertical-align: top;\n",
       "    }\n",
       "\n",
       "    .dataframe thead th {\n",
       "        text-align: right;\n",
       "    }\n",
       "</style>\n",
       "<table border=\"1\" class=\"dataframe\">\n",
       "  <thead>\n",
       "    <tr style=\"text-align: right;\">\n",
       "      <th></th>\n",
       "      <th>Case Number</th>\n",
       "      <th>Date</th>\n",
       "      <th>Block</th>\n",
       "      <th>Primary Type</th>\n",
       "      <th>Description</th>\n",
       "      <th>Location Description</th>\n",
       "      <th>Arrest</th>\n",
       "      <th>Domestic</th>\n",
       "      <th>Beat</th>\n",
       "      <th>District</th>\n",
       "      <th>X Coordinate</th>\n",
       "      <th>Y Coordinate</th>\n",
       "      <th>Year</th>\n",
       "      <th>Updated On</th>\n",
       "      <th>Latitude</th>\n",
       "      <th>Longitude</th>\n",
       "      <th>Location</th>\n",
       "    </tr>\n",
       "  </thead>\n",
       "  <tbody>\n",
       "    <tr>\n",
       "      <th>0</th>\n",
       "      <td>JD394996</td>\n",
       "      <td>10/10/2020 01:24:00 PM</td>\n",
       "      <td>020XX W CERMAK RD</td>\n",
       "      <td>ROBBERY</td>\n",
       "      <td>ATTEMPT STRONG ARM - NO WEAPON</td>\n",
       "      <td>SIDEWALK</td>\n",
       "      <td>False</td>\n",
       "      <td>False</td>\n",
       "      <td>1234</td>\n",
       "      <td>12.0</td>\n",
       "      <td>1163205.0</td>\n",
       "      <td>1889403.0</td>\n",
       "      <td>2020</td>\n",
       "      <td>10/17/2020 03:40:42 PM</td>\n",
       "      <td>41.852164</td>\n",
       "      <td>-87.676477</td>\n",
       "      <td>(41.852163701, -87.676477082)</td>\n",
       "    </tr>\n",
       "    <tr>\n",
       "      <th>1</th>\n",
       "      <td>JD263654</td>\n",
       "      <td>06/14/2020 05:00:00 AM</td>\n",
       "      <td>079XX S MARSHFIELD AVE</td>\n",
       "      <td>ROBBERY</td>\n",
       "      <td>STRONG ARM - NO WEAPON</td>\n",
       "      <td>SIDEWALK</td>\n",
       "      <td>False</td>\n",
       "      <td>False</td>\n",
       "      <td>611</td>\n",
       "      <td>6.0</td>\n",
       "      <td>1166716.0</td>\n",
       "      <td>1852282.0</td>\n",
       "      <td>2020</td>\n",
       "      <td>06/21/2020 03:41:39 PM</td>\n",
       "      <td>41.750225</td>\n",
       "      <td>-87.664651</td>\n",
       "      <td>(41.750224946, -87.664650661)</td>\n",
       "    </tr>\n",
       "    <tr>\n",
       "      <th>2</th>\n",
       "      <td>JD357900</td>\n",
       "      <td>09/05/2020 09:40:00 PM</td>\n",
       "      <td>042XX S WENTWORTH AVE</td>\n",
       "      <td>ROBBERY</td>\n",
       "      <td>ARMED - HANDGUN</td>\n",
       "      <td>GAS STATION</td>\n",
       "      <td>False</td>\n",
       "      <td>False</td>\n",
       "      <td>925</td>\n",
       "      <td>9.0</td>\n",
       "      <td>1175637.0</td>\n",
       "      <td>1876744.0</td>\n",
       "      <td>2020</td>\n",
       "      <td>09/12/2020 03:41:32 PM</td>\n",
       "      <td>41.817156</td>\n",
       "      <td>-87.631228</td>\n",
       "      <td>(41.817156358, -87.631228252)</td>\n",
       "    </tr>\n",
       "    <tr>\n",
       "      <th>3</th>\n",
       "      <td>JD268799</td>\n",
       "      <td>06/19/2020 06:40:00 AM</td>\n",
       "      <td>007XX S KENNETH AVE</td>\n",
       "      <td>ROBBERY</td>\n",
       "      <td>STRONG ARM - NO WEAPON</td>\n",
       "      <td>STREET</td>\n",
       "      <td>False</td>\n",
       "      <td>False</td>\n",
       "      <td>1131</td>\n",
       "      <td>11.0</td>\n",
       "      <td>1146803.0</td>\n",
       "      <td>1896435.0</td>\n",
       "      <td>2020</td>\n",
       "      <td>06/26/2020 03:41:43 PM</td>\n",
       "      <td>41.871789</td>\n",
       "      <td>-87.736498</td>\n",
       "      <td>(41.871788907, -87.736498067)</td>\n",
       "    </tr>\n",
       "    <tr>\n",
       "      <th>4</th>\n",
       "      <td>JD346077</td>\n",
       "      <td>08/26/2020 04:38:00 PM</td>\n",
       "      <td>036XX W DOUGLAS BLVD</td>\n",
       "      <td>ROBBERY</td>\n",
       "      <td>ATTEMPT STRONG ARM - NO WEAPON</td>\n",
       "      <td>STREET</td>\n",
       "      <td>False</td>\n",
       "      <td>False</td>\n",
       "      <td>1011</td>\n",
       "      <td>10.0</td>\n",
       "      <td>1152160.0</td>\n",
       "      <td>1893209.0</td>\n",
       "      <td>2020</td>\n",
       "      <td>09/02/2020 03:41:56 PM</td>\n",
       "      <td>41.862833</td>\n",
       "      <td>-87.716915</td>\n",
       "      <td>(41.862832503, -87.716915247)</td>\n",
       "    </tr>\n",
       "  </tbody>\n",
       "</table>\n",
       "</div>"
      ],
      "text/plain": [
       "  Case Number                    Date                   Block Primary Type  \\\n",
       "0    JD394996  10/10/2020 01:24:00 PM       020XX W CERMAK RD      ROBBERY   \n",
       "1    JD263654  06/14/2020 05:00:00 AM  079XX S MARSHFIELD AVE      ROBBERY   \n",
       "2    JD357900  09/05/2020 09:40:00 PM   042XX S WENTWORTH AVE      ROBBERY   \n",
       "3    JD268799  06/19/2020 06:40:00 AM     007XX S KENNETH AVE      ROBBERY   \n",
       "4    JD346077  08/26/2020 04:38:00 PM    036XX W DOUGLAS BLVD      ROBBERY   \n",
       "\n",
       "                      Description Location Description  Arrest  Domestic  \\\n",
       "0  ATTEMPT STRONG ARM - NO WEAPON             SIDEWALK   False     False   \n",
       "1          STRONG ARM - NO WEAPON             SIDEWALK   False     False   \n",
       "2                 ARMED - HANDGUN          GAS STATION   False     False   \n",
       "3          STRONG ARM - NO WEAPON               STREET   False     False   \n",
       "4  ATTEMPT STRONG ARM - NO WEAPON               STREET   False     False   \n",
       "\n",
       "   Beat  District  X Coordinate  Y Coordinate  Year              Updated On  \\\n",
       "0  1234      12.0     1163205.0     1889403.0  2020  10/17/2020 03:40:42 PM   \n",
       "1   611       6.0     1166716.0     1852282.0  2020  06/21/2020 03:41:39 PM   \n",
       "2   925       9.0     1175637.0     1876744.0  2020  09/12/2020 03:41:32 PM   \n",
       "3  1131      11.0     1146803.0     1896435.0  2020  06/26/2020 03:41:43 PM   \n",
       "4  1011      10.0     1152160.0     1893209.0  2020  09/02/2020 03:41:56 PM   \n",
       "\n",
       "    Latitude  Longitude                       Location  \n",
       "0  41.852164 -87.676477  (41.852163701, -87.676477082)  \n",
       "1  41.750225 -87.664651  (41.750224946, -87.664650661)  \n",
       "2  41.817156 -87.631228  (41.817156358, -87.631228252)  \n",
       "3  41.871789 -87.736498  (41.871788907, -87.736498067)  \n",
       "4  41.862833 -87.716915  (41.862832503, -87.716915247)  "
      ]
     },
     "execution_count": 2,
     "metadata": {},
     "output_type": "execute_result"
    }
   ],
   "source": [
    "df=pd.read_csv('robbery.csv')\n",
    "df.head()"
   ]
  },
  {
   "cell_type": "code",
   "execution_count": 3,
   "metadata": {},
   "outputs": [
    {
     "data": {
      "text/plain": [
       "Index(['Case Number', 'Date', 'Block', 'Primary Type', 'Description',\n",
       "       'Location Description', 'Arrest', 'Domestic', 'Beat', 'District',\n",
       "       'X Coordinate', 'Y Coordinate', 'Year', 'Updated On', 'Latitude',\n",
       "       'Longitude', 'Location'],\n",
       "      dtype='object')"
      ]
     },
     "execution_count": 3,
     "metadata": {},
     "output_type": "execute_result"
    }
   ],
   "source": [
    "df.columns"
   ]
  },
  {
   "cell_type": "code",
   "execution_count": 4,
   "metadata": {},
   "outputs": [
    {
     "data": {
      "text/plain": [
       "Primary Type\n",
       "ROBBERY    278737\n",
       "Name: count, dtype: int64"
      ]
     },
     "execution_count": 4,
     "metadata": {},
     "output_type": "execute_result"
    }
   ],
   "source": [
    "df['Primary Type'].value_counts()"
   ]
  },
  {
   "cell_type": "code",
   "execution_count": 5,
   "metadata": {},
   "outputs": [],
   "source": [
    "df1=df[df['Primary Type'].isin(['THEFT','BURGLARY','MOTOR VEHICLE THEFT','ROBBERY'])].copy()"
   ]
  },
  {
   "cell_type": "code",
   "execution_count": 6,
   "metadata": {},
   "outputs": [
    {
     "data": {
      "text/plain": [
       "Primary Type\n",
       "ROBBERY    278737\n",
       "Name: count, dtype: int64"
      ]
     },
     "execution_count": 6,
     "metadata": {},
     "output_type": "execute_result"
    }
   ],
   "source": [
    "df1['Primary Type'].value_counts()"
   ]
  },
  {
   "cell_type": "code",
   "execution_count": 7,
   "metadata": {},
   "outputs": [
    {
     "data": {
      "text/plain": [
       "Case Number             0\n",
       "Date                    0\n",
       "Block                   0\n",
       "Primary Type            0\n",
       "Description             0\n",
       "Location Description    0\n",
       "Arrest                  0\n",
       "Domestic                0\n",
       "Beat                    0\n",
       "District                0\n",
       "X Coordinate            0\n",
       "Y Coordinate            0\n",
       "Year                    0\n",
       "Updated On              0\n",
       "Latitude                0\n",
       "Longitude               0\n",
       "Location                0\n",
       "dtype: int64"
      ]
     },
     "execution_count": 7,
     "metadata": {},
     "output_type": "execute_result"
    }
   ],
   "source": [
    "df1.isna().sum()"
   ]
  },
  {
   "cell_type": "code",
   "execution_count": 8,
   "metadata": {},
   "outputs": [],
   "source": [
    "df1.dropna(inplace=True)"
   ]
  },
  {
   "cell_type": "code",
   "execution_count": 9,
   "metadata": {},
   "outputs": [
    {
     "data": {
      "text/plain": [
       "Case Number             0\n",
       "Date                    0\n",
       "Block                   0\n",
       "Primary Type            0\n",
       "Description             0\n",
       "Location Description    0\n",
       "Arrest                  0\n",
       "Domestic                0\n",
       "Beat                    0\n",
       "District                0\n",
       "X Coordinate            0\n",
       "Y Coordinate            0\n",
       "Year                    0\n",
       "Updated On              0\n",
       "Latitude                0\n",
       "Longitude               0\n",
       "Location                0\n",
       "dtype: int64"
      ]
     },
     "execution_count": 9,
     "metadata": {},
     "output_type": "execute_result"
    }
   ],
   "source": [
    "df1.isna().sum()"
   ]
  },
  {
   "cell_type": "code",
   "execution_count": 10,
   "metadata": {},
   "outputs": [
    {
     "data": {
      "text/plain": [
       "(278737, 17)"
      ]
     },
     "execution_count": 10,
     "metadata": {},
     "output_type": "execute_result"
    }
   ],
   "source": [
    "df1.shape"
   ]
  },
  {
   "cell_type": "code",
   "execution_count": 11,
   "metadata": {},
   "outputs": [],
   "source": [
    "df1.to_csv('propertycrimes.csv',index=False)"
   ]
  },
  {
   "cell_type": "code",
   "execution_count": null,
   "metadata": {},
   "outputs": [],
   "source": []
  },
  {
   "cell_type": "code",
   "execution_count": 12,
   "metadata": {},
   "outputs": [],
   "source": [
    "df2=df[df['Primary Type'].isin(['MOTOR VEHICLE THEFT','ROBBERY'])].copy()"
   ]
  },
  {
   "cell_type": "code",
   "execution_count": 13,
   "metadata": {},
   "outputs": [
    {
     "data": {
      "text/plain": [
       "(278737, 17)"
      ]
     },
     "execution_count": 13,
     "metadata": {},
     "output_type": "execute_result"
    }
   ],
   "source": [
    "df2.shape"
   ]
  },
  {
   "cell_type": "code",
   "execution_count": 14,
   "metadata": {},
   "outputs": [],
   "source": [
    "df2.dropna(inplace=True)"
   ]
  },
  {
   "cell_type": "code",
   "execution_count": 15,
   "metadata": {},
   "outputs": [
    {
     "data": {
      "text/plain": [
       "(278737, 17)"
      ]
     },
     "execution_count": 15,
     "metadata": {},
     "output_type": "execute_result"
    }
   ],
   "source": [
    "df2.shape"
   ]
  },
  {
   "cell_type": "code",
   "execution_count": 16,
   "metadata": {},
   "outputs": [
    {
     "data": {
      "text/html": [
       "<div>\n",
       "<style scoped>\n",
       "    .dataframe tbody tr th:only-of-type {\n",
       "        vertical-align: middle;\n",
       "    }\n",
       "\n",
       "    .dataframe tbody tr th {\n",
       "        vertical-align: top;\n",
       "    }\n",
       "\n",
       "    .dataframe thead th {\n",
       "        text-align: right;\n",
       "    }\n",
       "</style>\n",
       "<table border=\"1\" class=\"dataframe\">\n",
       "  <thead>\n",
       "    <tr style=\"text-align: right;\">\n",
       "      <th></th>\n",
       "      <th>Case Number</th>\n",
       "      <th>Date</th>\n",
       "      <th>Block</th>\n",
       "      <th>Primary Type</th>\n",
       "      <th>Description</th>\n",
       "      <th>Location Description</th>\n",
       "      <th>Arrest</th>\n",
       "      <th>Domestic</th>\n",
       "      <th>Beat</th>\n",
       "      <th>District</th>\n",
       "      <th>X Coordinate</th>\n",
       "      <th>Y Coordinate</th>\n",
       "      <th>Year</th>\n",
       "      <th>Updated On</th>\n",
       "      <th>Latitude</th>\n",
       "      <th>Longitude</th>\n",
       "      <th>Location</th>\n",
       "    </tr>\n",
       "  </thead>\n",
       "  <tbody>\n",
       "    <tr>\n",
       "      <th>0</th>\n",
       "      <td>JD394996</td>\n",
       "      <td>10/10/2020 01:24:00 PM</td>\n",
       "      <td>020XX W CERMAK RD</td>\n",
       "      <td>ROBBERY</td>\n",
       "      <td>ATTEMPT STRONG ARM - NO WEAPON</td>\n",
       "      <td>SIDEWALK</td>\n",
       "      <td>False</td>\n",
       "      <td>False</td>\n",
       "      <td>1234</td>\n",
       "      <td>12.0</td>\n",
       "      <td>1163205.0</td>\n",
       "      <td>1889403.0</td>\n",
       "      <td>2020</td>\n",
       "      <td>10/17/2020 03:40:42 PM</td>\n",
       "      <td>41.852164</td>\n",
       "      <td>-87.676477</td>\n",
       "      <td>(41.852163701, -87.676477082)</td>\n",
       "    </tr>\n",
       "    <tr>\n",
       "      <th>1</th>\n",
       "      <td>JD263654</td>\n",
       "      <td>06/14/2020 05:00:00 AM</td>\n",
       "      <td>079XX S MARSHFIELD AVE</td>\n",
       "      <td>ROBBERY</td>\n",
       "      <td>STRONG ARM - NO WEAPON</td>\n",
       "      <td>SIDEWALK</td>\n",
       "      <td>False</td>\n",
       "      <td>False</td>\n",
       "      <td>611</td>\n",
       "      <td>6.0</td>\n",
       "      <td>1166716.0</td>\n",
       "      <td>1852282.0</td>\n",
       "      <td>2020</td>\n",
       "      <td>06/21/2020 03:41:39 PM</td>\n",
       "      <td>41.750225</td>\n",
       "      <td>-87.664651</td>\n",
       "      <td>(41.750224946, -87.664650661)</td>\n",
       "    </tr>\n",
       "    <tr>\n",
       "      <th>2</th>\n",
       "      <td>JD357900</td>\n",
       "      <td>09/05/2020 09:40:00 PM</td>\n",
       "      <td>042XX S WENTWORTH AVE</td>\n",
       "      <td>ROBBERY</td>\n",
       "      <td>ARMED - HANDGUN</td>\n",
       "      <td>GAS STATION</td>\n",
       "      <td>False</td>\n",
       "      <td>False</td>\n",
       "      <td>925</td>\n",
       "      <td>9.0</td>\n",
       "      <td>1175637.0</td>\n",
       "      <td>1876744.0</td>\n",
       "      <td>2020</td>\n",
       "      <td>09/12/2020 03:41:32 PM</td>\n",
       "      <td>41.817156</td>\n",
       "      <td>-87.631228</td>\n",
       "      <td>(41.817156358, -87.631228252)</td>\n",
       "    </tr>\n",
       "    <tr>\n",
       "      <th>3</th>\n",
       "      <td>JD268799</td>\n",
       "      <td>06/19/2020 06:40:00 AM</td>\n",
       "      <td>007XX S KENNETH AVE</td>\n",
       "      <td>ROBBERY</td>\n",
       "      <td>STRONG ARM - NO WEAPON</td>\n",
       "      <td>STREET</td>\n",
       "      <td>False</td>\n",
       "      <td>False</td>\n",
       "      <td>1131</td>\n",
       "      <td>11.0</td>\n",
       "      <td>1146803.0</td>\n",
       "      <td>1896435.0</td>\n",
       "      <td>2020</td>\n",
       "      <td>06/26/2020 03:41:43 PM</td>\n",
       "      <td>41.871789</td>\n",
       "      <td>-87.736498</td>\n",
       "      <td>(41.871788907, -87.736498067)</td>\n",
       "    </tr>\n",
       "    <tr>\n",
       "      <th>4</th>\n",
       "      <td>JD346077</td>\n",
       "      <td>08/26/2020 04:38:00 PM</td>\n",
       "      <td>036XX W DOUGLAS BLVD</td>\n",
       "      <td>ROBBERY</td>\n",
       "      <td>ATTEMPT STRONG ARM - NO WEAPON</td>\n",
       "      <td>STREET</td>\n",
       "      <td>False</td>\n",
       "      <td>False</td>\n",
       "      <td>1011</td>\n",
       "      <td>10.0</td>\n",
       "      <td>1152160.0</td>\n",
       "      <td>1893209.0</td>\n",
       "      <td>2020</td>\n",
       "      <td>09/02/2020 03:41:56 PM</td>\n",
       "      <td>41.862833</td>\n",
       "      <td>-87.716915</td>\n",
       "      <td>(41.862832503, -87.716915247)</td>\n",
       "    </tr>\n",
       "  </tbody>\n",
       "</table>\n",
       "</div>"
      ],
      "text/plain": [
       "  Case Number                    Date                   Block Primary Type  \\\n",
       "0    JD394996  10/10/2020 01:24:00 PM       020XX W CERMAK RD      ROBBERY   \n",
       "1    JD263654  06/14/2020 05:00:00 AM  079XX S MARSHFIELD AVE      ROBBERY   \n",
       "2    JD357900  09/05/2020 09:40:00 PM   042XX S WENTWORTH AVE      ROBBERY   \n",
       "3    JD268799  06/19/2020 06:40:00 AM     007XX S KENNETH AVE      ROBBERY   \n",
       "4    JD346077  08/26/2020 04:38:00 PM    036XX W DOUGLAS BLVD      ROBBERY   \n",
       "\n",
       "                      Description Location Description  Arrest  Domestic  \\\n",
       "0  ATTEMPT STRONG ARM - NO WEAPON             SIDEWALK   False     False   \n",
       "1          STRONG ARM - NO WEAPON             SIDEWALK   False     False   \n",
       "2                 ARMED - HANDGUN          GAS STATION   False     False   \n",
       "3          STRONG ARM - NO WEAPON               STREET   False     False   \n",
       "4  ATTEMPT STRONG ARM - NO WEAPON               STREET   False     False   \n",
       "\n",
       "   Beat  District  X Coordinate  Y Coordinate  Year              Updated On  \\\n",
       "0  1234      12.0     1163205.0     1889403.0  2020  10/17/2020 03:40:42 PM   \n",
       "1   611       6.0     1166716.0     1852282.0  2020  06/21/2020 03:41:39 PM   \n",
       "2   925       9.0     1175637.0     1876744.0  2020  09/12/2020 03:41:32 PM   \n",
       "3  1131      11.0     1146803.0     1896435.0  2020  06/26/2020 03:41:43 PM   \n",
       "4  1011      10.0     1152160.0     1893209.0  2020  09/02/2020 03:41:56 PM   \n",
       "\n",
       "    Latitude  Longitude                       Location  \n",
       "0  41.852164 -87.676477  (41.852163701, -87.676477082)  \n",
       "1  41.750225 -87.664651  (41.750224946, -87.664650661)  \n",
       "2  41.817156 -87.631228  (41.817156358, -87.631228252)  \n",
       "3  41.871789 -87.736498  (41.871788907, -87.736498067)  \n",
       "4  41.862833 -87.716915  (41.862832503, -87.716915247)  "
      ]
     },
     "execution_count": 16,
     "metadata": {},
     "output_type": "execute_result"
    }
   ],
   "source": [
    "pd.set_option('display.max_rows', None)\n",
    "pd.set_option('display.max_column', None)\n",
    "df2.head()"
   ]
  },
  {
   "cell_type": "code",
   "execution_count": 17,
   "metadata": {},
   "outputs": [
    {
     "data": {
      "text/plain": [
       "Index(['Case Number', 'Date', 'Block', 'Primary Type', 'Description',\n",
       "       'Location Description', 'Arrest', 'Domestic', 'Beat', 'District',\n",
       "       'X Coordinate', 'Y Coordinate', 'Year', 'Updated On', 'Latitude',\n",
       "       'Longitude', 'Location'],\n",
       "      dtype='object')"
      ]
     },
     "execution_count": 17,
     "metadata": {},
     "output_type": "execute_result"
    }
   ],
   "source": [
    "df2.columns"
   ]
  },
  {
   "cell_type": "code",
   "execution_count": 18,
   "metadata": {},
   "outputs": [
    {
     "ename": "KeyError",
     "evalue": "\"['ID', 'IUCR', 'Ward', 'Community Area', 'FBI Code'] not found in axis\"",
     "output_type": "error",
     "traceback": [
      "\u001b[1;31m---------------------------------------------------------------------------\u001b[0m",
      "\u001b[1;31mKeyError\u001b[0m                                  Traceback (most recent call last)",
      "Cell \u001b[1;32mIn[18], line 1\u001b[0m\n\u001b[1;32m----> 1\u001b[0m df2\u001b[38;5;241m.\u001b[39mdrop(labels\u001b[38;5;241m=\u001b[39m[\u001b[38;5;124m'\u001b[39m\u001b[38;5;124mID\u001b[39m\u001b[38;5;124m'\u001b[39m, \u001b[38;5;124m'\u001b[39m\u001b[38;5;124mIUCR\u001b[39m\u001b[38;5;124m'\u001b[39m,\u001b[38;5;124m'\u001b[39m\u001b[38;5;124mWard\u001b[39m\u001b[38;5;124m'\u001b[39m, \u001b[38;5;124m'\u001b[39m\u001b[38;5;124mCommunity Area\u001b[39m\u001b[38;5;124m'\u001b[39m, \u001b[38;5;124m'\u001b[39m\u001b[38;5;124mFBI Code\u001b[39m\u001b[38;5;124m'\u001b[39m], axis\u001b[38;5;241m=\u001b[39m\u001b[38;5;241m1\u001b[39m,inplace\u001b[38;5;241m=\u001b[39m\u001b[38;5;28;01mTrue\u001b[39;00m)\n\u001b[0;32m      2\u001b[0m df2\u001b[38;5;241m.\u001b[39mshape\n",
      "File \u001b[1;32mC:\\ProgramData\\anaconda3\\Lib\\site-packages\\pandas\\core\\frame.py:5581\u001b[0m, in \u001b[0;36mDataFrame.drop\u001b[1;34m(self, labels, axis, index, columns, level, inplace, errors)\u001b[0m\n\u001b[0;32m   5433\u001b[0m \u001b[38;5;28;01mdef\u001b[39;00m \u001b[38;5;21mdrop\u001b[39m(\n\u001b[0;32m   5434\u001b[0m     \u001b[38;5;28mself\u001b[39m,\n\u001b[0;32m   5435\u001b[0m     labels: IndexLabel \u001b[38;5;241m|\u001b[39m \u001b[38;5;28;01mNone\u001b[39;00m \u001b[38;5;241m=\u001b[39m \u001b[38;5;28;01mNone\u001b[39;00m,\n\u001b[1;32m   (...)\u001b[0m\n\u001b[0;32m   5442\u001b[0m     errors: IgnoreRaise \u001b[38;5;241m=\u001b[39m \u001b[38;5;124m\"\u001b[39m\u001b[38;5;124mraise\u001b[39m\u001b[38;5;124m\"\u001b[39m,\n\u001b[0;32m   5443\u001b[0m ) \u001b[38;5;241m-\u001b[39m\u001b[38;5;241m>\u001b[39m DataFrame \u001b[38;5;241m|\u001b[39m \u001b[38;5;28;01mNone\u001b[39;00m:\n\u001b[0;32m   5444\u001b[0m \u001b[38;5;250m    \u001b[39m\u001b[38;5;124;03m\"\"\"\u001b[39;00m\n\u001b[0;32m   5445\u001b[0m \u001b[38;5;124;03m    Drop specified labels from rows or columns.\u001b[39;00m\n\u001b[0;32m   5446\u001b[0m \n\u001b[1;32m   (...)\u001b[0m\n\u001b[0;32m   5579\u001b[0m \u001b[38;5;124;03m            weight  1.0     0.8\u001b[39;00m\n\u001b[0;32m   5580\u001b[0m \u001b[38;5;124;03m    \"\"\"\u001b[39;00m\n\u001b[1;32m-> 5581\u001b[0m     \u001b[38;5;28;01mreturn\u001b[39;00m \u001b[38;5;28msuper\u001b[39m()\u001b[38;5;241m.\u001b[39mdrop(\n\u001b[0;32m   5582\u001b[0m         labels\u001b[38;5;241m=\u001b[39mlabels,\n\u001b[0;32m   5583\u001b[0m         axis\u001b[38;5;241m=\u001b[39maxis,\n\u001b[0;32m   5584\u001b[0m         index\u001b[38;5;241m=\u001b[39mindex,\n\u001b[0;32m   5585\u001b[0m         columns\u001b[38;5;241m=\u001b[39mcolumns,\n\u001b[0;32m   5586\u001b[0m         level\u001b[38;5;241m=\u001b[39mlevel,\n\u001b[0;32m   5587\u001b[0m         inplace\u001b[38;5;241m=\u001b[39minplace,\n\u001b[0;32m   5588\u001b[0m         errors\u001b[38;5;241m=\u001b[39merrors,\n\u001b[0;32m   5589\u001b[0m     )\n",
      "File \u001b[1;32mC:\\ProgramData\\anaconda3\\Lib\\site-packages\\pandas\\core\\generic.py:4788\u001b[0m, in \u001b[0;36mNDFrame.drop\u001b[1;34m(self, labels, axis, index, columns, level, inplace, errors)\u001b[0m\n\u001b[0;32m   4786\u001b[0m \u001b[38;5;28;01mfor\u001b[39;00m axis, labels \u001b[38;5;129;01min\u001b[39;00m axes\u001b[38;5;241m.\u001b[39mitems():\n\u001b[0;32m   4787\u001b[0m     \u001b[38;5;28;01mif\u001b[39;00m labels \u001b[38;5;129;01mis\u001b[39;00m \u001b[38;5;129;01mnot\u001b[39;00m \u001b[38;5;28;01mNone\u001b[39;00m:\n\u001b[1;32m-> 4788\u001b[0m         obj \u001b[38;5;241m=\u001b[39m obj\u001b[38;5;241m.\u001b[39m_drop_axis(labels, axis, level\u001b[38;5;241m=\u001b[39mlevel, errors\u001b[38;5;241m=\u001b[39merrors)\n\u001b[0;32m   4790\u001b[0m \u001b[38;5;28;01mif\u001b[39;00m inplace:\n\u001b[0;32m   4791\u001b[0m     \u001b[38;5;28mself\u001b[39m\u001b[38;5;241m.\u001b[39m_update_inplace(obj)\n",
      "File \u001b[1;32mC:\\ProgramData\\anaconda3\\Lib\\site-packages\\pandas\\core\\generic.py:4830\u001b[0m, in \u001b[0;36mNDFrame._drop_axis\u001b[1;34m(self, labels, axis, level, errors, only_slice)\u001b[0m\n\u001b[0;32m   4828\u001b[0m         new_axis \u001b[38;5;241m=\u001b[39m axis\u001b[38;5;241m.\u001b[39mdrop(labels, level\u001b[38;5;241m=\u001b[39mlevel, errors\u001b[38;5;241m=\u001b[39merrors)\n\u001b[0;32m   4829\u001b[0m     \u001b[38;5;28;01melse\u001b[39;00m:\n\u001b[1;32m-> 4830\u001b[0m         new_axis \u001b[38;5;241m=\u001b[39m axis\u001b[38;5;241m.\u001b[39mdrop(labels, errors\u001b[38;5;241m=\u001b[39merrors)\n\u001b[0;32m   4831\u001b[0m     indexer \u001b[38;5;241m=\u001b[39m axis\u001b[38;5;241m.\u001b[39mget_indexer(new_axis)\n\u001b[0;32m   4833\u001b[0m \u001b[38;5;66;03m# Case for non-unique axis\u001b[39;00m\n\u001b[0;32m   4834\u001b[0m \u001b[38;5;28;01melse\u001b[39;00m:\n",
      "File \u001b[1;32mC:\\ProgramData\\anaconda3\\Lib\\site-packages\\pandas\\core\\indexes\\base.py:7070\u001b[0m, in \u001b[0;36mIndex.drop\u001b[1;34m(self, labels, errors)\u001b[0m\n\u001b[0;32m   7068\u001b[0m \u001b[38;5;28;01mif\u001b[39;00m mask\u001b[38;5;241m.\u001b[39many():\n\u001b[0;32m   7069\u001b[0m     \u001b[38;5;28;01mif\u001b[39;00m errors \u001b[38;5;241m!=\u001b[39m \u001b[38;5;124m\"\u001b[39m\u001b[38;5;124mignore\u001b[39m\u001b[38;5;124m\"\u001b[39m:\n\u001b[1;32m-> 7070\u001b[0m         \u001b[38;5;28;01mraise\u001b[39;00m \u001b[38;5;167;01mKeyError\u001b[39;00m(\u001b[38;5;124mf\u001b[39m\u001b[38;5;124m\"\u001b[39m\u001b[38;5;132;01m{\u001b[39;00mlabels[mask]\u001b[38;5;241m.\u001b[39mtolist()\u001b[38;5;132;01m}\u001b[39;00m\u001b[38;5;124m not found in axis\u001b[39m\u001b[38;5;124m\"\u001b[39m)\n\u001b[0;32m   7071\u001b[0m     indexer \u001b[38;5;241m=\u001b[39m indexer[\u001b[38;5;241m~\u001b[39mmask]\n\u001b[0;32m   7072\u001b[0m \u001b[38;5;28;01mreturn\u001b[39;00m \u001b[38;5;28mself\u001b[39m\u001b[38;5;241m.\u001b[39mdelete(indexer)\n",
      "\u001b[1;31mKeyError\u001b[0m: \"['ID', 'IUCR', 'Ward', 'Community Area', 'FBI Code'] not found in axis\""
     ]
    }
   ],
   "source": [
    "df2.drop(labels=['ID', 'IUCR','Ward', 'Community Area', 'FBI Code'], axis=1,inplace=True)\n",
    "df2.shape"
   ]
  },
  {
   "cell_type": "code",
   "execution_count": null,
   "metadata": {},
   "outputs": [],
   "source": [
    "df3=df2[df2['Primary Type'].isin(['ROBBERY'])].copy()\n",
    "df3.shape\n"
   ]
  },
  {
   "cell_type": "code",
   "execution_count": null,
   "metadata": {},
   "outputs": [],
   "source": [
    "df3.to_csv('robbery.csv',index=False)"
   ]
  },
  {
   "cell_type": "code",
   "execution_count": null,
   "metadata": {},
   "outputs": [],
   "source": []
  }
 ],
 "metadata": {
  "kernelspec": {
   "display_name": "Python 3 (ipykernel)",
   "language": "python",
   "name": "python3"
  },
  "language_info": {
   "codemirror_mode": {
    "name": "ipython",
    "version": 3
   },
   "file_extension": ".py",
   "mimetype": "text/x-python",
   "name": "python",
   "nbconvert_exporter": "python",
   "pygments_lexer": "ipython3",
   "version": "3.11.7"
  }
 },
 "nbformat": 4,
 "nbformat_minor": 4
}
